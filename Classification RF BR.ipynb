{
 "cells": [
  {
   "cell_type": "code",
   "execution_count": 1,
   "id": "71ea1aa2",
   "metadata": {},
   "outputs": [],
   "source": [
    "import warnings\n",
    "warnings.filterwarnings(\"ignore\")\n",
    "import pandas as pd\n",
    "pd.set_option(\"display.max_row\",999)\n",
    "pd.set_option(\"display.max_column\",999)"
   ]
  },
  {
   "cell_type": "code",
   "execution_count": 2,
   "id": "2e70e815",
   "metadata": {},
   "outputs": [],
   "source": [
    "import matplotlib.pyplot as plt\n",
    "from sklearn.preprocessing import LabelEncoder\n",
    "import seaborn as sns\n",
    "import pickle"
   ]
  },
  {
   "cell_type": "markdown",
   "id": "adf74036",
   "metadata": {},
   "source": [
    "# Load DATA"
   ]
  },
  {
   "cell_type": "code",
   "execution_count": 3,
   "id": "7dfe550d",
   "metadata": {},
   "outputs": [],
   "source": [
    "# Load the credit card fraud dataset\n",
    "train_df = pd.read_csv(\"application_train.csv\")\n",
    "# train_df.head(3)"
   ]
  },
  {
   "cell_type": "code",
   "execution_count": 4,
   "id": "77ce08dd",
   "metadata": {},
   "outputs": [
    {
     "data": {
      "text/plain": [
       "(307511, 122)"
      ]
     },
     "execution_count": 4,
     "metadata": {},
     "output_type": "execute_result"
    }
   ],
   "source": [
    "train_df.shape"
   ]
  },
  {
   "cell_type": "code",
   "execution_count": 5,
   "id": "9122f615",
   "metadata": {},
   "outputs": [],
   "source": [
    "# train_df.info()"
   ]
  },
  {
   "cell_type": "code",
   "execution_count": 6,
   "id": "04903132",
   "metadata": {},
   "outputs": [],
   "source": [
    "# # vérifier s'il y a des valeurs manquantes.\n",
    "# plt.figure(figsize=(20,10))\n",
    "# sns.heatmap(train_df.isna(),cbar=False)"
   ]
  },
  {
   "cell_type": "code",
   "execution_count": 7,
   "id": "14633fa3",
   "metadata": {},
   "outputs": [],
   "source": [
    "# # Visualisation\n",
    "# train_df.dtypes.value_counts().plot.pie()"
   ]
  },
  {
   "cell_type": "code",
   "execution_count": 8,
   "id": "63c3c700",
   "metadata": {},
   "outputs": [
    {
     "data": {
      "text/plain": [
       "9152465"
      ]
     },
     "execution_count": 8,
     "metadata": {},
     "output_type": "execute_result"
    }
   ],
   "source": [
    "# vérifier les valeurs manquantes\n",
    "train_df.isnull().sum().sum()"
   ]
  },
  {
   "cell_type": "code",
   "execution_count": 9,
   "id": "4488a6ce",
   "metadata": {},
   "outputs": [],
   "source": [
    "# # données de type objet\n",
    "# train_df.select_dtypes(\"object\").head(3)"
   ]
  },
  {
   "cell_type": "code",
   "execution_count": 10,
   "id": "e89c954b",
   "metadata": {},
   "outputs": [
    {
     "data": {
      "text/plain": [
       "16"
      ]
     },
     "execution_count": 10,
     "metadata": {},
     "output_type": "execute_result"
    }
   ],
   "source": [
    "len(train_df.select_dtypes(\"object\").columns)"
   ]
  },
  {
   "cell_type": "code",
   "execution_count": 11,
   "id": "3eb40001",
   "metadata": {},
   "outputs": [
    {
     "name": "stdout",
     "output_type": "stream",
     "text": [
      "Total Missing Features : 49\n",
      "Total Features : 122\n",
      "(307511, 122)\n",
      "(307511, 72)\n",
      "(244280, 72)\n"
     ]
    }
   ],
   "source": [
    "df=train_df.copy()\n",
    "def get_missing_values(df,seuil):\n",
    "\n",
    "    di_temp={ \"Missing Tot. val.\": df.isnull().sum(),\n",
    "              \"Missing % val.\": 100*df.isnull().sum() / len(df) }\n",
    "    df_temp= pd.DataFrame(di_temp)\n",
    "    df_temp=df_temp[df_temp[\"Missing % val.\"] >= seuil]\n",
    "    df_temp.sort_values(by=['Missing % val.'], inplace=True,ascending=False)\n",
    "\n",
    "    return df_temp\n",
    "\n",
    "dfm=get_missing_values(df,45)\n",
    "\n",
    "print(\"Total Missing Features :\",len(dfm.index))\n",
    "print(\"Total Features :\",len(df.columns))\n",
    "\n",
    "dfm\n",
    "\n",
    "print(df.shape)\n",
    "df=df[df.columns[df.isna().sum()/df.shape[0]<0.2]]\n",
    "print(df.shape)\n",
    "\n",
    "df.dropna(inplace=True)\n",
    "print(df.shape)\n",
    "\n",
    "# # vérifier s'il y a des valeurs manquantes.\n",
    "# plt.figure(figsize=(20,10))\n",
    "# sns.heatmap(df.isna(),cbar=False)\n",
    "\n",
    "for col_obj in df.select_dtypes(\"object\").columns: \n",
    "    lb=LabelEncoder()\n",
    "    df[col_obj]=lb.fit_transform(df[col_obj]) "
   ]
  },
  {
   "cell_type": "code",
   "execution_count": 12,
   "id": "e2ca0e94",
   "metadata": {},
   "outputs": [
    {
     "data": {
      "text/plain": [
       "(244280, 72)"
      ]
     },
     "execution_count": 12,
     "metadata": {},
     "output_type": "execute_result"
    }
   ],
   "source": [
    "df.shape"
   ]
  },
  {
   "cell_type": "code",
   "execution_count": 14,
   "id": "f8a0f90c",
   "metadata": {},
   "outputs": [
    {
     "data": {
      "text/plain": [
       "TARGET                         1.000000\n",
       "CODE_GENDER                    0.051347\n",
       "NAME_EDUCATION_TYPE            0.051100\n",
       "DAYS_BIRTH                     0.079128\n",
       "REGION_RATING_CLIENT           0.054504\n",
       "REGION_RATING_CLIENT_W_CITY    0.056531\n",
       "DAYS_LAST_PHONE_CHANGE         0.051970\n",
       "Name: TARGET, dtype: float64"
      ]
     },
     "execution_count": 14,
     "metadata": {},
     "output_type": "execute_result"
    }
   ],
   "source": [
    "df.corr()['TARGET'][df.corr()['TARGET']>0.05]"
   ]
  },
  {
   "cell_type": "code",
   "execution_count": 15,
   "id": "8037231b",
   "metadata": {},
   "outputs": [
    {
     "data": {
      "text/plain": [
       "TARGET                         1.000000\n",
       "CODE_GENDER                    0.051347\n",
       "NAME_EDUCATION_TYPE            0.051100\n",
       "DAYS_BIRTH                     0.079128\n",
       "REGION_RATING_CLIENT           0.054504\n",
       "REGION_RATING_CLIENT_W_CITY    0.056531\n",
       "DAYS_LAST_PHONE_CHANGE         0.051970\n",
       "Name: TARGET, dtype: float64"
      ]
     },
     "execution_count": 15,
     "metadata": {},
     "output_type": "execute_result"
    }
   ],
   "source": [
    "df.corr()['TARGET'][df.corr()['TARGET']>0.05]"
   ]
  },
  {
   "cell_type": "code",
   "execution_count": 16,
   "id": "1b2166cb",
   "metadata": {},
   "outputs": [
    {
     "data": {
      "text/plain": [
       "(27,\n",
       " Index(['TARGET', 'CODE_GENDER', 'CNT_CHILDREN', 'NAME_TYPE_SUITE',\n",
       "        'NAME_INCOME_TYPE', 'NAME_EDUCATION_TYPE', 'NAME_HOUSING_TYPE',\n",
       "        'DAYS_BIRTH', 'DAYS_REGISTRATION', 'DAYS_ID_PUBLISH', 'FLAG_EMP_PHONE',\n",
       "        'FLAG_WORK_PHONE', 'CNT_FAM_MEMBERS', 'REGION_RATING_CLIENT',\n",
       "        'REGION_RATING_CLIENT_W_CITY', 'REG_REGION_NOT_LIVE_REGION',\n",
       "        'REG_REGION_NOT_WORK_REGION', 'REG_CITY_NOT_LIVE_CITY',\n",
       "        'REG_CITY_NOT_WORK_CITY', 'LIVE_CITY_NOT_WORK_CITY',\n",
       "        'OBS_30_CNT_SOCIAL_CIRCLE', 'DEF_30_CNT_SOCIAL_CIRCLE',\n",
       "        'OBS_60_CNT_SOCIAL_CIRCLE', 'DEF_60_CNT_SOCIAL_CIRCLE',\n",
       "        'DAYS_LAST_PHONE_CHANGE', 'FLAG_DOCUMENT_3',\n",
       "        'AMT_REQ_CREDIT_BUREAU_YEAR'],\n",
       "       dtype='object'))"
      ]
     },
     "execution_count": 16,
     "metadata": {},
     "output_type": "execute_result"
    }
   ],
   "source": [
    "len(df.corr()['TARGET'][df.corr()['TARGET']>0.005].index), df.corr()['TARGET'][df.corr()['TARGET']>0.005].index"
   ]
  },
  {
   "cell_type": "code",
   "execution_count": 17,
   "id": "c3921ac2",
   "metadata": {},
   "outputs": [
    {
     "data": {
      "text/html": [
       "<div>\n",
       "<style scoped>\n",
       "    .dataframe tbody tr th:only-of-type {\n",
       "        vertical-align: middle;\n",
       "    }\n",
       "\n",
       "    .dataframe tbody tr th {\n",
       "        vertical-align: top;\n",
       "    }\n",
       "\n",
       "    .dataframe thead th {\n",
       "        text-align: right;\n",
       "    }\n",
       "</style>\n",
       "<table border=\"1\" class=\"dataframe\">\n",
       "  <thead>\n",
       "    <tr style=\"text-align: right;\">\n",
       "      <th></th>\n",
       "      <th>TARGET</th>\n",
       "      <th>CODE_GENDER</th>\n",
       "      <th>CNT_CHILDREN</th>\n",
       "      <th>NAME_TYPE_SUITE</th>\n",
       "      <th>NAME_INCOME_TYPE</th>\n",
       "      <th>NAME_EDUCATION_TYPE</th>\n",
       "      <th>NAME_HOUSING_TYPE</th>\n",
       "      <th>DAYS_BIRTH</th>\n",
       "      <th>DAYS_REGISTRATION</th>\n",
       "      <th>DAYS_ID_PUBLISH</th>\n",
       "      <th>FLAG_EMP_PHONE</th>\n",
       "      <th>FLAG_WORK_PHONE</th>\n",
       "      <th>CNT_FAM_MEMBERS</th>\n",
       "      <th>REGION_RATING_CLIENT</th>\n",
       "      <th>REGION_RATING_CLIENT_W_CITY</th>\n",
       "      <th>REG_REGION_NOT_LIVE_REGION</th>\n",
       "      <th>REG_REGION_NOT_WORK_REGION</th>\n",
       "      <th>REG_CITY_NOT_LIVE_CITY</th>\n",
       "      <th>REG_CITY_NOT_WORK_CITY</th>\n",
       "      <th>LIVE_CITY_NOT_WORK_CITY</th>\n",
       "      <th>OBS_30_CNT_SOCIAL_CIRCLE</th>\n",
       "      <th>DEF_30_CNT_SOCIAL_CIRCLE</th>\n",
       "      <th>OBS_60_CNT_SOCIAL_CIRCLE</th>\n",
       "      <th>DEF_60_CNT_SOCIAL_CIRCLE</th>\n",
       "      <th>DAYS_LAST_PHONE_CHANGE</th>\n",
       "      <th>FLAG_DOCUMENT_3</th>\n",
       "      <th>AMT_REQ_CREDIT_BUREAU_YEAR</th>\n",
       "    </tr>\n",
       "  </thead>\n",
       "  <tbody>\n",
       "    <tr>\n",
       "      <th>0</th>\n",
       "      <td>1</td>\n",
       "      <td>1</td>\n",
       "      <td>0</td>\n",
       "      <td>6</td>\n",
       "      <td>6</td>\n",
       "      <td>4</td>\n",
       "      <td>1</td>\n",
       "      <td>-9461</td>\n",
       "      <td>-3648.0</td>\n",
       "      <td>-2120</td>\n",
       "      <td>1</td>\n",
       "      <td>0</td>\n",
       "      <td>1.0</td>\n",
       "      <td>2</td>\n",
       "      <td>2</td>\n",
       "      <td>0</td>\n",
       "      <td>0</td>\n",
       "      <td>0</td>\n",
       "      <td>0</td>\n",
       "      <td>0</td>\n",
       "      <td>2.0</td>\n",
       "      <td>2.0</td>\n",
       "      <td>2.0</td>\n",
       "      <td>2.0</td>\n",
       "      <td>-1134.0</td>\n",
       "      <td>1</td>\n",
       "      <td>1.0</td>\n",
       "    </tr>\n",
       "    <tr>\n",
       "      <th>2</th>\n",
       "      <td>0</td>\n",
       "      <td>1</td>\n",
       "      <td>0</td>\n",
       "      <td>6</td>\n",
       "      <td>6</td>\n",
       "      <td>4</td>\n",
       "      <td>1</td>\n",
       "      <td>-19046</td>\n",
       "      <td>-4260.0</td>\n",
       "      <td>-2531</td>\n",
       "      <td>1</td>\n",
       "      <td>1</td>\n",
       "      <td>1.0</td>\n",
       "      <td>2</td>\n",
       "      <td>2</td>\n",
       "      <td>0</td>\n",
       "      <td>0</td>\n",
       "      <td>0</td>\n",
       "      <td>0</td>\n",
       "      <td>0</td>\n",
       "      <td>0.0</td>\n",
       "      <td>0.0</td>\n",
       "      <td>0.0</td>\n",
       "      <td>0.0</td>\n",
       "      <td>-815.0</td>\n",
       "      <td>0</td>\n",
       "      <td>0.0</td>\n",
       "    </tr>\n",
       "    <tr>\n",
       "      <th>5</th>\n",
       "      <td>0</td>\n",
       "      <td>1</td>\n",
       "      <td>0</td>\n",
       "      <td>5</td>\n",
       "      <td>3</td>\n",
       "      <td>4</td>\n",
       "      <td>1</td>\n",
       "      <td>-16941</td>\n",
       "      <td>-4970.0</td>\n",
       "      <td>-477</td>\n",
       "      <td>1</td>\n",
       "      <td>1</td>\n",
       "      <td>2.0</td>\n",
       "      <td>2</td>\n",
       "      <td>2</td>\n",
       "      <td>0</td>\n",
       "      <td>0</td>\n",
       "      <td>0</td>\n",
       "      <td>0</td>\n",
       "      <td>0</td>\n",
       "      <td>0.0</td>\n",
       "      <td>0.0</td>\n",
       "      <td>0.0</td>\n",
       "      <td>0.0</td>\n",
       "      <td>-2536.0</td>\n",
       "      <td>1</td>\n",
       "      <td>1.0</td>\n",
       "    </tr>\n",
       "    <tr>\n",
       "      <th>6</th>\n",
       "      <td>0</td>\n",
       "      <td>0</td>\n",
       "      <td>1</td>\n",
       "      <td>6</td>\n",
       "      <td>1</td>\n",
       "      <td>1</td>\n",
       "      <td>1</td>\n",
       "      <td>-13778</td>\n",
       "      <td>-1213.0</td>\n",
       "      <td>-619</td>\n",
       "      <td>1</td>\n",
       "      <td>0</td>\n",
       "      <td>3.0</td>\n",
       "      <td>2</td>\n",
       "      <td>2</td>\n",
       "      <td>0</td>\n",
       "      <td>0</td>\n",
       "      <td>0</td>\n",
       "      <td>0</td>\n",
       "      <td>0</td>\n",
       "      <td>1.0</td>\n",
       "      <td>0.0</td>\n",
       "      <td>1.0</td>\n",
       "      <td>0.0</td>\n",
       "      <td>-1562.0</td>\n",
       "      <td>0</td>\n",
       "      <td>2.0</td>\n",
       "    </tr>\n",
       "    <tr>\n",
       "      <th>7</th>\n",
       "      <td>0</td>\n",
       "      <td>1</td>\n",
       "      <td>0</td>\n",
       "      <td>6</td>\n",
       "      <td>3</td>\n",
       "      <td>1</td>\n",
       "      <td>1</td>\n",
       "      <td>-18850</td>\n",
       "      <td>-4597.0</td>\n",
       "      <td>-2379</td>\n",
       "      <td>1</td>\n",
       "      <td>1</td>\n",
       "      <td>2.0</td>\n",
       "      <td>3</td>\n",
       "      <td>3</td>\n",
       "      <td>0</td>\n",
       "      <td>0</td>\n",
       "      <td>0</td>\n",
       "      <td>1</td>\n",
       "      <td>1</td>\n",
       "      <td>2.0</td>\n",
       "      <td>0.0</td>\n",
       "      <td>2.0</td>\n",
       "      <td>0.0</td>\n",
       "      <td>-1070.0</td>\n",
       "      <td>1</td>\n",
       "      <td>0.0</td>\n",
       "    </tr>\n",
       "  </tbody>\n",
       "</table>\n",
       "</div>"
      ],
      "text/plain": [
       "   TARGET  CODE_GENDER  CNT_CHILDREN  NAME_TYPE_SUITE  NAME_INCOME_TYPE  \\\n",
       "0       1            1             0                6                 6   \n",
       "2       0            1             0                6                 6   \n",
       "5       0            1             0                5                 3   \n",
       "6       0            0             1                6                 1   \n",
       "7       0            1             0                6                 3   \n",
       "\n",
       "   NAME_EDUCATION_TYPE  NAME_HOUSING_TYPE  DAYS_BIRTH  DAYS_REGISTRATION  \\\n",
       "0                    4                  1       -9461            -3648.0   \n",
       "2                    4                  1      -19046            -4260.0   \n",
       "5                    4                  1      -16941            -4970.0   \n",
       "6                    1                  1      -13778            -1213.0   \n",
       "7                    1                  1      -18850            -4597.0   \n",
       "\n",
       "   DAYS_ID_PUBLISH  FLAG_EMP_PHONE  FLAG_WORK_PHONE  CNT_FAM_MEMBERS  \\\n",
       "0            -2120               1                0              1.0   \n",
       "2            -2531               1                1              1.0   \n",
       "5             -477               1                1              2.0   \n",
       "6             -619               1                0              3.0   \n",
       "7            -2379               1                1              2.0   \n",
       "\n",
       "   REGION_RATING_CLIENT  REGION_RATING_CLIENT_W_CITY  \\\n",
       "0                     2                            2   \n",
       "2                     2                            2   \n",
       "5                     2                            2   \n",
       "6                     2                            2   \n",
       "7                     3                            3   \n",
       "\n",
       "   REG_REGION_NOT_LIVE_REGION  REG_REGION_NOT_WORK_REGION  \\\n",
       "0                           0                           0   \n",
       "2                           0                           0   \n",
       "5                           0                           0   \n",
       "6                           0                           0   \n",
       "7                           0                           0   \n",
       "\n",
       "   REG_CITY_NOT_LIVE_CITY  REG_CITY_NOT_WORK_CITY  LIVE_CITY_NOT_WORK_CITY  \\\n",
       "0                       0                       0                        0   \n",
       "2                       0                       0                        0   \n",
       "5                       0                       0                        0   \n",
       "6                       0                       0                        0   \n",
       "7                       0                       1                        1   \n",
       "\n",
       "   OBS_30_CNT_SOCIAL_CIRCLE  DEF_30_CNT_SOCIAL_CIRCLE  \\\n",
       "0                       2.0                       2.0   \n",
       "2                       0.0                       0.0   \n",
       "5                       0.0                       0.0   \n",
       "6                       1.0                       0.0   \n",
       "7                       2.0                       0.0   \n",
       "\n",
       "   OBS_60_CNT_SOCIAL_CIRCLE  DEF_60_CNT_SOCIAL_CIRCLE  DAYS_LAST_PHONE_CHANGE  \\\n",
       "0                       2.0                       2.0                 -1134.0   \n",
       "2                       0.0                       0.0                  -815.0   \n",
       "5                       0.0                       0.0                 -2536.0   \n",
       "6                       1.0                       0.0                 -1562.0   \n",
       "7                       2.0                       0.0                 -1070.0   \n",
       "\n",
       "   FLAG_DOCUMENT_3  AMT_REQ_CREDIT_BUREAU_YEAR  \n",
       "0                1                         1.0  \n",
       "2                0                         0.0  \n",
       "5                1                         1.0  \n",
       "6                0                         2.0  \n",
       "7                1                         0.0  "
      ]
     },
     "execution_count": 17,
     "metadata": {},
     "output_type": "execute_result"
    }
   ],
   "source": [
    "df=df[df.corr()['TARGET'][df.corr()['TARGET']>0.005].index]\n",
    "df.head()"
   ]
  },
  {
   "cell_type": "code",
   "execution_count": 18,
   "id": "0cfb5d26",
   "metadata": {},
   "outputs": [
    {
     "data": {
      "text/plain": [
       "(244280, 27)"
      ]
     },
     "execution_count": 18,
     "metadata": {},
     "output_type": "execute_result"
    }
   ],
   "source": [
    "df.shape"
   ]
  },
  {
   "cell_type": "code",
   "execution_count": 19,
   "id": "8f88bca6",
   "metadata": {},
   "outputs": [
    {
     "data": {
      "text/plain": [
       "Index(['TARGET', 'CODE_GENDER', 'CNT_CHILDREN', 'NAME_TYPE_SUITE',\n",
       "       'NAME_INCOME_TYPE', 'NAME_EDUCATION_TYPE', 'NAME_HOUSING_TYPE',\n",
       "       'DAYS_BIRTH', 'DAYS_REGISTRATION', 'DAYS_ID_PUBLISH', 'FLAG_EMP_PHONE',\n",
       "       'FLAG_WORK_PHONE', 'CNT_FAM_MEMBERS', 'REGION_RATING_CLIENT',\n",
       "       'REGION_RATING_CLIENT_W_CITY', 'REG_REGION_NOT_LIVE_REGION',\n",
       "       'REG_REGION_NOT_WORK_REGION', 'REG_CITY_NOT_LIVE_CITY',\n",
       "       'REG_CITY_NOT_WORK_CITY', 'LIVE_CITY_NOT_WORK_CITY',\n",
       "       'OBS_30_CNT_SOCIAL_CIRCLE', 'DEF_30_CNT_SOCIAL_CIRCLE',\n",
       "       'OBS_60_CNT_SOCIAL_CIRCLE', 'DEF_60_CNT_SOCIAL_CIRCLE',\n",
       "       'DAYS_LAST_PHONE_CHANGE', 'FLAG_DOCUMENT_3',\n",
       "       'AMT_REQ_CREDIT_BUREAU_YEAR'],\n",
       "      dtype='object')"
      ]
     },
     "execution_count": 19,
     "metadata": {},
     "output_type": "execute_result"
    }
   ],
   "source": [
    "train_df[df.corr()['TARGET'][df.corr()['TARGET']>0.005].index].columns"
   ]
  },
  {
   "cell_type": "code",
   "execution_count": 20,
   "id": "8bf604d0",
   "metadata": {},
   "outputs": [],
   "source": [
    "trrr=pd.DataFrame(train_df[df.corr()['TARGET'][df.corr()['TARGET']>0.005].index].describe())"
   ]
  },
  {
   "cell_type": "code",
   "execution_count": 21,
   "id": "186a32ef",
   "metadata": {},
   "outputs": [
    {
     "data": {
      "text/html": [
       "<div>\n",
       "<style scoped>\n",
       "    .dataframe tbody tr th:only-of-type {\n",
       "        vertical-align: middle;\n",
       "    }\n",
       "\n",
       "    .dataframe tbody tr th {\n",
       "        vertical-align: top;\n",
       "    }\n",
       "\n",
       "    .dataframe thead th {\n",
       "        text-align: right;\n",
       "    }\n",
       "</style>\n",
       "<table border=\"1\" class=\"dataframe\">\n",
       "  <thead>\n",
       "    <tr style=\"text-align: right;\">\n",
       "      <th></th>\n",
       "      <th>TARGET</th>\n",
       "      <th>CNT_CHILDREN</th>\n",
       "      <th>DAYS_BIRTH</th>\n",
       "      <th>DAYS_REGISTRATION</th>\n",
       "      <th>DAYS_ID_PUBLISH</th>\n",
       "      <th>FLAG_EMP_PHONE</th>\n",
       "      <th>FLAG_WORK_PHONE</th>\n",
       "      <th>CNT_FAM_MEMBERS</th>\n",
       "      <th>REGION_RATING_CLIENT</th>\n",
       "      <th>REGION_RATING_CLIENT_W_CITY</th>\n",
       "      <th>REG_REGION_NOT_LIVE_REGION</th>\n",
       "      <th>REG_REGION_NOT_WORK_REGION</th>\n",
       "      <th>REG_CITY_NOT_LIVE_CITY</th>\n",
       "      <th>REG_CITY_NOT_WORK_CITY</th>\n",
       "      <th>LIVE_CITY_NOT_WORK_CITY</th>\n",
       "      <th>OBS_30_CNT_SOCIAL_CIRCLE</th>\n",
       "      <th>DEF_30_CNT_SOCIAL_CIRCLE</th>\n",
       "      <th>OBS_60_CNT_SOCIAL_CIRCLE</th>\n",
       "      <th>DEF_60_CNT_SOCIAL_CIRCLE</th>\n",
       "      <th>DAYS_LAST_PHONE_CHANGE</th>\n",
       "      <th>FLAG_DOCUMENT_3</th>\n",
       "      <th>AMT_REQ_CREDIT_BUREAU_YEAR</th>\n",
       "    </tr>\n",
       "  </thead>\n",
       "  <tbody>\n",
       "    <tr>\n",
       "      <th>min</th>\n",
       "      <td>0.0</td>\n",
       "      <td>0.0</td>\n",
       "      <td>-25229.0</td>\n",
       "      <td>-24672.0</td>\n",
       "      <td>-7197.0</td>\n",
       "      <td>0.0</td>\n",
       "      <td>0.0</td>\n",
       "      <td>1.0</td>\n",
       "      <td>1.0</td>\n",
       "      <td>1.0</td>\n",
       "      <td>0.0</td>\n",
       "      <td>0.0</td>\n",
       "      <td>0.0</td>\n",
       "      <td>0.0</td>\n",
       "      <td>0.0</td>\n",
       "      <td>0.0</td>\n",
       "      <td>0.0</td>\n",
       "      <td>0.0</td>\n",
       "      <td>0.0</td>\n",
       "      <td>-4292.0</td>\n",
       "      <td>0.0</td>\n",
       "      <td>0.0</td>\n",
       "    </tr>\n",
       "    <tr>\n",
       "      <th>max</th>\n",
       "      <td>1.0</td>\n",
       "      <td>19.0</td>\n",
       "      <td>-7489.0</td>\n",
       "      <td>0.0</td>\n",
       "      <td>0.0</td>\n",
       "      <td>1.0</td>\n",
       "      <td>1.0</td>\n",
       "      <td>20.0</td>\n",
       "      <td>3.0</td>\n",
       "      <td>3.0</td>\n",
       "      <td>1.0</td>\n",
       "      <td>1.0</td>\n",
       "      <td>1.0</td>\n",
       "      <td>1.0</td>\n",
       "      <td>1.0</td>\n",
       "      <td>348.0</td>\n",
       "      <td>34.0</td>\n",
       "      <td>344.0</td>\n",
       "      <td>24.0</td>\n",
       "      <td>0.0</td>\n",
       "      <td>1.0</td>\n",
       "      <td>25.0</td>\n",
       "    </tr>\n",
       "  </tbody>\n",
       "</table>\n",
       "</div>"
      ],
      "text/plain": [
       "     TARGET  CNT_CHILDREN  DAYS_BIRTH  DAYS_REGISTRATION  DAYS_ID_PUBLISH  \\\n",
       "min     0.0           0.0    -25229.0           -24672.0          -7197.0   \n",
       "max     1.0          19.0     -7489.0                0.0              0.0   \n",
       "\n",
       "     FLAG_EMP_PHONE  FLAG_WORK_PHONE  CNT_FAM_MEMBERS  REGION_RATING_CLIENT  \\\n",
       "min             0.0              0.0              1.0                   1.0   \n",
       "max             1.0              1.0             20.0                   3.0   \n",
       "\n",
       "     REGION_RATING_CLIENT_W_CITY  REG_REGION_NOT_LIVE_REGION  \\\n",
       "min                          1.0                         0.0   \n",
       "max                          3.0                         1.0   \n",
       "\n",
       "     REG_REGION_NOT_WORK_REGION  REG_CITY_NOT_LIVE_CITY  \\\n",
       "min                         0.0                     0.0   \n",
       "max                         1.0                     1.0   \n",
       "\n",
       "     REG_CITY_NOT_WORK_CITY  LIVE_CITY_NOT_WORK_CITY  \\\n",
       "min                     0.0                      0.0   \n",
       "max                     1.0                      1.0   \n",
       "\n",
       "     OBS_30_CNT_SOCIAL_CIRCLE  DEF_30_CNT_SOCIAL_CIRCLE  \\\n",
       "min                       0.0                       0.0   \n",
       "max                     348.0                      34.0   \n",
       "\n",
       "     OBS_60_CNT_SOCIAL_CIRCLE  DEF_60_CNT_SOCIAL_CIRCLE  \\\n",
       "min                       0.0                       0.0   \n",
       "max                     344.0                      24.0   \n",
       "\n",
       "     DAYS_LAST_PHONE_CHANGE  FLAG_DOCUMENT_3  AMT_REQ_CREDIT_BUREAU_YEAR  \n",
       "min                 -4292.0              0.0                         0.0  \n",
       "max                     0.0              1.0                        25.0  "
      ]
     },
     "execution_count": 21,
     "metadata": {},
     "output_type": "execute_result"
    }
   ],
   "source": [
    "trrr.loc[['min', 'max']]"
   ]
  },
  {
   "cell_type": "code",
   "execution_count": 22,
   "id": "7a675b56",
   "metadata": {},
   "outputs": [],
   "source": [
    "test=train_df[df.corr()['TARGET'][df.corr()['TARGET']>0.005].index][:3]"
   ]
  },
  {
   "cell_type": "code",
   "execution_count": 23,
   "id": "3b5743b6",
   "metadata": {},
   "outputs": [],
   "source": [
    "test=train_df[df.corr()['TARGET'][df.corr()['TARGET']>0.005].index][:-3]"
   ]
  },
  {
   "cell_type": "code",
   "execution_count": 24,
   "id": "a1ae2a81",
   "metadata": {},
   "outputs": [
    {
     "data": {
      "text/html": [
       "<div>\n",
       "<style scoped>\n",
       "    .dataframe tbody tr th:only-of-type {\n",
       "        vertical-align: middle;\n",
       "    }\n",
       "\n",
       "    .dataframe tbody tr th {\n",
       "        vertical-align: top;\n",
       "    }\n",
       "\n",
       "    .dataframe thead th {\n",
       "        text-align: right;\n",
       "    }\n",
       "</style>\n",
       "<table border=\"1\" class=\"dataframe\">\n",
       "  <thead>\n",
       "    <tr style=\"text-align: right;\">\n",
       "      <th></th>\n",
       "      <th>TARGET</th>\n",
       "      <th>CODE_GENDER</th>\n",
       "      <th>CNT_CHILDREN</th>\n",
       "      <th>NAME_TYPE_SUITE</th>\n",
       "      <th>NAME_INCOME_TYPE</th>\n",
       "      <th>NAME_EDUCATION_TYPE</th>\n",
       "      <th>NAME_HOUSING_TYPE</th>\n",
       "      <th>DAYS_BIRTH</th>\n",
       "      <th>DAYS_REGISTRATION</th>\n",
       "      <th>DAYS_ID_PUBLISH</th>\n",
       "      <th>FLAG_EMP_PHONE</th>\n",
       "      <th>FLAG_WORK_PHONE</th>\n",
       "      <th>CNT_FAM_MEMBERS</th>\n",
       "      <th>REGION_RATING_CLIENT</th>\n",
       "      <th>REGION_RATING_CLIENT_W_CITY</th>\n",
       "      <th>REG_REGION_NOT_LIVE_REGION</th>\n",
       "      <th>REG_REGION_NOT_WORK_REGION</th>\n",
       "      <th>REG_CITY_NOT_LIVE_CITY</th>\n",
       "      <th>REG_CITY_NOT_WORK_CITY</th>\n",
       "      <th>LIVE_CITY_NOT_WORK_CITY</th>\n",
       "      <th>OBS_30_CNT_SOCIAL_CIRCLE</th>\n",
       "      <th>DEF_30_CNT_SOCIAL_CIRCLE</th>\n",
       "      <th>OBS_60_CNT_SOCIAL_CIRCLE</th>\n",
       "      <th>DEF_60_CNT_SOCIAL_CIRCLE</th>\n",
       "      <th>DAYS_LAST_PHONE_CHANGE</th>\n",
       "      <th>FLAG_DOCUMENT_3</th>\n",
       "      <th>AMT_REQ_CREDIT_BUREAU_YEAR</th>\n",
       "    </tr>\n",
       "  </thead>\n",
       "  <tbody>\n",
       "    <tr>\n",
       "      <th>0</th>\n",
       "      <td>1</td>\n",
       "      <td>M</td>\n",
       "      <td>0</td>\n",
       "      <td>Unaccompanied</td>\n",
       "      <td>Working</td>\n",
       "      <td>Secondary / secondary special</td>\n",
       "      <td>House / apartment</td>\n",
       "      <td>-9461</td>\n",
       "      <td>-3648.0</td>\n",
       "      <td>-2120</td>\n",
       "      <td>1</td>\n",
       "      <td>0</td>\n",
       "      <td>1.0</td>\n",
       "      <td>2</td>\n",
       "      <td>2</td>\n",
       "      <td>0</td>\n",
       "      <td>0</td>\n",
       "      <td>0</td>\n",
       "      <td>0</td>\n",
       "      <td>0</td>\n",
       "      <td>2.0</td>\n",
       "      <td>2.0</td>\n",
       "      <td>2.0</td>\n",
       "      <td>2.0</td>\n",
       "      <td>-1134.0</td>\n",
       "      <td>1</td>\n",
       "      <td>1.0</td>\n",
       "    </tr>\n",
       "    <tr>\n",
       "      <th>26</th>\n",
       "      <td>1</td>\n",
       "      <td>F</td>\n",
       "      <td>0</td>\n",
       "      <td>Unaccompanied</td>\n",
       "      <td>Working</td>\n",
       "      <td>Secondary / secondary special</td>\n",
       "      <td>House / apartment</td>\n",
       "      <td>-18724</td>\n",
       "      <td>-6573.0</td>\n",
       "      <td>-1827</td>\n",
       "      <td>1</td>\n",
       "      <td>0</td>\n",
       "      <td>1.0</td>\n",
       "      <td>3</td>\n",
       "      <td>2</td>\n",
       "      <td>0</td>\n",
       "      <td>0</td>\n",
       "      <td>0</td>\n",
       "      <td>0</td>\n",
       "      <td>0</td>\n",
       "      <td>10.0</td>\n",
       "      <td>1.0</td>\n",
       "      <td>10.0</td>\n",
       "      <td>0.0</td>\n",
       "      <td>-161.0</td>\n",
       "      <td>1</td>\n",
       "      <td>2.0</td>\n",
       "    </tr>\n",
       "    <tr>\n",
       "      <th>40</th>\n",
       "      <td>1</td>\n",
       "      <td>M</td>\n",
       "      <td>0</td>\n",
       "      <td>Unaccompanied</td>\n",
       "      <td>Commercial associate</td>\n",
       "      <td>Secondary / secondary special</td>\n",
       "      <td>House / apartment</td>\n",
       "      <td>-17482</td>\n",
       "      <td>-1182.0</td>\n",
       "      <td>-1029</td>\n",
       "      <td>1</td>\n",
       "      <td>0</td>\n",
       "      <td>2.0</td>\n",
       "      <td>2</td>\n",
       "      <td>2</td>\n",
       "      <td>0</td>\n",
       "      <td>0</td>\n",
       "      <td>0</td>\n",
       "      <td>0</td>\n",
       "      <td>0</td>\n",
       "      <td>0.0</td>\n",
       "      <td>0.0</td>\n",
       "      <td>0.0</td>\n",
       "      <td>0.0</td>\n",
       "      <td>-1075.0</td>\n",
       "      <td>1</td>\n",
       "      <td>4.0</td>\n",
       "    </tr>\n",
       "    <tr>\n",
       "      <th>42</th>\n",
       "      <td>1</td>\n",
       "      <td>F</td>\n",
       "      <td>0</td>\n",
       "      <td>Unaccompanied</td>\n",
       "      <td>Working</td>\n",
       "      <td>Secondary / secondary special</td>\n",
       "      <td>House / apartment</td>\n",
       "      <td>-13384</td>\n",
       "      <td>-45.0</td>\n",
       "      <td>-4409</td>\n",
       "      <td>1</td>\n",
       "      <td>1</td>\n",
       "      <td>2.0</td>\n",
       "      <td>3</td>\n",
       "      <td>3</td>\n",
       "      <td>0</td>\n",
       "      <td>0</td>\n",
       "      <td>0</td>\n",
       "      <td>0</td>\n",
       "      <td>0</td>\n",
       "      <td>1.0</td>\n",
       "      <td>0.0</td>\n",
       "      <td>1.0</td>\n",
       "      <td>0.0</td>\n",
       "      <td>-1480.0</td>\n",
       "      <td>1</td>\n",
       "      <td>2.0</td>\n",
       "    </tr>\n",
       "    <tr>\n",
       "      <th>81</th>\n",
       "      <td>1</td>\n",
       "      <td>F</td>\n",
       "      <td>0</td>\n",
       "      <td>Unaccompanied</td>\n",
       "      <td>Pensioner</td>\n",
       "      <td>Secondary / secondary special</td>\n",
       "      <td>House / apartment</td>\n",
       "      <td>-24794</td>\n",
       "      <td>-5391.0</td>\n",
       "      <td>-4199</td>\n",
       "      <td>0</td>\n",
       "      <td>0</td>\n",
       "      <td>2.0</td>\n",
       "      <td>2</td>\n",
       "      <td>2</td>\n",
       "      <td>0</td>\n",
       "      <td>0</td>\n",
       "      <td>0</td>\n",
       "      <td>0</td>\n",
       "      <td>0</td>\n",
       "      <td>1.0</td>\n",
       "      <td>1.0</td>\n",
       "      <td>1.0</td>\n",
       "      <td>1.0</td>\n",
       "      <td>0.0</td>\n",
       "      <td>0</td>\n",
       "      <td>0.0</td>\n",
       "    </tr>\n",
       "    <tr>\n",
       "      <th>...</th>\n",
       "      <td>...</td>\n",
       "      <td>...</td>\n",
       "      <td>...</td>\n",
       "      <td>...</td>\n",
       "      <td>...</td>\n",
       "      <td>...</td>\n",
       "      <td>...</td>\n",
       "      <td>...</td>\n",
       "      <td>...</td>\n",
       "      <td>...</td>\n",
       "      <td>...</td>\n",
       "      <td>...</td>\n",
       "      <td>...</td>\n",
       "      <td>...</td>\n",
       "      <td>...</td>\n",
       "      <td>...</td>\n",
       "      <td>...</td>\n",
       "      <td>...</td>\n",
       "      <td>...</td>\n",
       "      <td>...</td>\n",
       "      <td>...</td>\n",
       "      <td>...</td>\n",
       "      <td>...</td>\n",
       "      <td>...</td>\n",
       "      <td>...</td>\n",
       "      <td>...</td>\n",
       "      <td>...</td>\n",
       "    </tr>\n",
       "    <tr>\n",
       "      <th>307446</th>\n",
       "      <td>1</td>\n",
       "      <td>M</td>\n",
       "      <td>0</td>\n",
       "      <td>Unaccompanied</td>\n",
       "      <td>Working</td>\n",
       "      <td>Secondary / secondary special</td>\n",
       "      <td>House / apartment</td>\n",
       "      <td>-10130</td>\n",
       "      <td>-1862.0</td>\n",
       "      <td>-2772</td>\n",
       "      <td>1</td>\n",
       "      <td>0</td>\n",
       "      <td>1.0</td>\n",
       "      <td>2</td>\n",
       "      <td>1</td>\n",
       "      <td>0</td>\n",
       "      <td>0</td>\n",
       "      <td>0</td>\n",
       "      <td>0</td>\n",
       "      <td>0</td>\n",
       "      <td>0.0</td>\n",
       "      <td>0.0</td>\n",
       "      <td>0.0</td>\n",
       "      <td>0.0</td>\n",
       "      <td>-243.0</td>\n",
       "      <td>1</td>\n",
       "      <td>NaN</td>\n",
       "    </tr>\n",
       "    <tr>\n",
       "      <th>307448</th>\n",
       "      <td>1</td>\n",
       "      <td>M</td>\n",
       "      <td>1</td>\n",
       "      <td>Unaccompanied</td>\n",
       "      <td>Working</td>\n",
       "      <td>Secondary / secondary special</td>\n",
       "      <td>House / apartment</td>\n",
       "      <td>-9918</td>\n",
       "      <td>-8507.0</td>\n",
       "      <td>-2580</td>\n",
       "      <td>1</td>\n",
       "      <td>1</td>\n",
       "      <td>3.0</td>\n",
       "      <td>3</td>\n",
       "      <td>3</td>\n",
       "      <td>0</td>\n",
       "      <td>0</td>\n",
       "      <td>0</td>\n",
       "      <td>0</td>\n",
       "      <td>0</td>\n",
       "      <td>0.0</td>\n",
       "      <td>0.0</td>\n",
       "      <td>0.0</td>\n",
       "      <td>0.0</td>\n",
       "      <td>-324.0</td>\n",
       "      <td>0</td>\n",
       "      <td>2.0</td>\n",
       "    </tr>\n",
       "    <tr>\n",
       "      <th>307475</th>\n",
       "      <td>1</td>\n",
       "      <td>F</td>\n",
       "      <td>1</td>\n",
       "      <td>Unaccompanied</td>\n",
       "      <td>Working</td>\n",
       "      <td>Higher education</td>\n",
       "      <td>House / apartment</td>\n",
       "      <td>-13416</td>\n",
       "      <td>-500.0</td>\n",
       "      <td>-4704</td>\n",
       "      <td>1</td>\n",
       "      <td>1</td>\n",
       "      <td>3.0</td>\n",
       "      <td>2</td>\n",
       "      <td>2</td>\n",
       "      <td>0</td>\n",
       "      <td>0</td>\n",
       "      <td>0</td>\n",
       "      <td>0</td>\n",
       "      <td>0</td>\n",
       "      <td>0.0</td>\n",
       "      <td>0.0</td>\n",
       "      <td>0.0</td>\n",
       "      <td>0.0</td>\n",
       "      <td>-1492.0</td>\n",
       "      <td>1</td>\n",
       "      <td>6.0</td>\n",
       "    </tr>\n",
       "    <tr>\n",
       "      <th>307481</th>\n",
       "      <td>1</td>\n",
       "      <td>M</td>\n",
       "      <td>0</td>\n",
       "      <td>Family</td>\n",
       "      <td>Working</td>\n",
       "      <td>Secondary / secondary special</td>\n",
       "      <td>House / apartment</td>\n",
       "      <td>-20644</td>\n",
       "      <td>-8921.0</td>\n",
       "      <td>-3832</td>\n",
       "      <td>1</td>\n",
       "      <td>0</td>\n",
       "      <td>2.0</td>\n",
       "      <td>2</td>\n",
       "      <td>2</td>\n",
       "      <td>0</td>\n",
       "      <td>0</td>\n",
       "      <td>0</td>\n",
       "      <td>0</td>\n",
       "      <td>0</td>\n",
       "      <td>0.0</td>\n",
       "      <td>0.0</td>\n",
       "      <td>0.0</td>\n",
       "      <td>0.0</td>\n",
       "      <td>-2941.0</td>\n",
       "      <td>1</td>\n",
       "      <td>3.0</td>\n",
       "    </tr>\n",
       "    <tr>\n",
       "      <th>307489</th>\n",
       "      <td>1</td>\n",
       "      <td>F</td>\n",
       "      <td>0</td>\n",
       "      <td>Unaccompanied</td>\n",
       "      <td>Commercial associate</td>\n",
       "      <td>Secondary / secondary special</td>\n",
       "      <td>House / apartment</td>\n",
       "      <td>-16471</td>\n",
       "      <td>-8291.0</td>\n",
       "      <td>-9</td>\n",
       "      <td>1</td>\n",
       "      <td>0</td>\n",
       "      <td>2.0</td>\n",
       "      <td>2</td>\n",
       "      <td>2</td>\n",
       "      <td>0</td>\n",
       "      <td>0</td>\n",
       "      <td>0</td>\n",
       "      <td>0</td>\n",
       "      <td>0</td>\n",
       "      <td>1.0</td>\n",
       "      <td>1.0</td>\n",
       "      <td>1.0</td>\n",
       "      <td>0.0</td>\n",
       "      <td>-307.0</td>\n",
       "      <td>1</td>\n",
       "      <td>2.0</td>\n",
       "    </tr>\n",
       "  </tbody>\n",
       "</table>\n",
       "<p>24824 rows × 27 columns</p>\n",
       "</div>"
      ],
      "text/plain": [
       "        TARGET CODE_GENDER  CNT_CHILDREN NAME_TYPE_SUITE  \\\n",
       "0            1           M             0   Unaccompanied   \n",
       "26           1           F             0   Unaccompanied   \n",
       "40           1           M             0   Unaccompanied   \n",
       "42           1           F             0   Unaccompanied   \n",
       "81           1           F             0   Unaccompanied   \n",
       "...        ...         ...           ...             ...   \n",
       "307446       1           M             0   Unaccompanied   \n",
       "307448       1           M             1   Unaccompanied   \n",
       "307475       1           F             1   Unaccompanied   \n",
       "307481       1           M             0          Family   \n",
       "307489       1           F             0   Unaccompanied   \n",
       "\n",
       "            NAME_INCOME_TYPE            NAME_EDUCATION_TYPE  \\\n",
       "0                    Working  Secondary / secondary special   \n",
       "26                   Working  Secondary / secondary special   \n",
       "40      Commercial associate  Secondary / secondary special   \n",
       "42                   Working  Secondary / secondary special   \n",
       "81                 Pensioner  Secondary / secondary special   \n",
       "...                      ...                            ...   \n",
       "307446               Working  Secondary / secondary special   \n",
       "307448               Working  Secondary / secondary special   \n",
       "307475               Working               Higher education   \n",
       "307481               Working  Secondary / secondary special   \n",
       "307489  Commercial associate  Secondary / secondary special   \n",
       "\n",
       "        NAME_HOUSING_TYPE  DAYS_BIRTH  DAYS_REGISTRATION  DAYS_ID_PUBLISH  \\\n",
       "0       House / apartment       -9461            -3648.0            -2120   \n",
       "26      House / apartment      -18724            -6573.0            -1827   \n",
       "40      House / apartment      -17482            -1182.0            -1029   \n",
       "42      House / apartment      -13384              -45.0            -4409   \n",
       "81      House / apartment      -24794            -5391.0            -4199   \n",
       "...                   ...         ...                ...              ...   \n",
       "307446  House / apartment      -10130            -1862.0            -2772   \n",
       "307448  House / apartment       -9918            -8507.0            -2580   \n",
       "307475  House / apartment      -13416             -500.0            -4704   \n",
       "307481  House / apartment      -20644            -8921.0            -3832   \n",
       "307489  House / apartment      -16471            -8291.0               -9   \n",
       "\n",
       "        FLAG_EMP_PHONE  FLAG_WORK_PHONE  CNT_FAM_MEMBERS  \\\n",
       "0                    1                0              1.0   \n",
       "26                   1                0              1.0   \n",
       "40                   1                0              2.0   \n",
       "42                   1                1              2.0   \n",
       "81                   0                0              2.0   \n",
       "...                ...              ...              ...   \n",
       "307446               1                0              1.0   \n",
       "307448               1                1              3.0   \n",
       "307475               1                1              3.0   \n",
       "307481               1                0              2.0   \n",
       "307489               1                0              2.0   \n",
       "\n",
       "        REGION_RATING_CLIENT  REGION_RATING_CLIENT_W_CITY  \\\n",
       "0                          2                            2   \n",
       "26                         3                            2   \n",
       "40                         2                            2   \n",
       "42                         3                            3   \n",
       "81                         2                            2   \n",
       "...                      ...                          ...   \n",
       "307446                     2                            1   \n",
       "307448                     3                            3   \n",
       "307475                     2                            2   \n",
       "307481                     2                            2   \n",
       "307489                     2                            2   \n",
       "\n",
       "        REG_REGION_NOT_LIVE_REGION  REG_REGION_NOT_WORK_REGION  \\\n",
       "0                                0                           0   \n",
       "26                               0                           0   \n",
       "40                               0                           0   \n",
       "42                               0                           0   \n",
       "81                               0                           0   \n",
       "...                            ...                         ...   \n",
       "307446                           0                           0   \n",
       "307448                           0                           0   \n",
       "307475                           0                           0   \n",
       "307481                           0                           0   \n",
       "307489                           0                           0   \n",
       "\n",
       "        REG_CITY_NOT_LIVE_CITY  REG_CITY_NOT_WORK_CITY  \\\n",
       "0                            0                       0   \n",
       "26                           0                       0   \n",
       "40                           0                       0   \n",
       "42                           0                       0   \n",
       "81                           0                       0   \n",
       "...                        ...                     ...   \n",
       "307446                       0                       0   \n",
       "307448                       0                       0   \n",
       "307475                       0                       0   \n",
       "307481                       0                       0   \n",
       "307489                       0                       0   \n",
       "\n",
       "        LIVE_CITY_NOT_WORK_CITY  OBS_30_CNT_SOCIAL_CIRCLE  \\\n",
       "0                             0                       2.0   \n",
       "26                            0                      10.0   \n",
       "40                            0                       0.0   \n",
       "42                            0                       1.0   \n",
       "81                            0                       1.0   \n",
       "...                         ...                       ...   \n",
       "307446                        0                       0.0   \n",
       "307448                        0                       0.0   \n",
       "307475                        0                       0.0   \n",
       "307481                        0                       0.0   \n",
       "307489                        0                       1.0   \n",
       "\n",
       "        DEF_30_CNT_SOCIAL_CIRCLE  OBS_60_CNT_SOCIAL_CIRCLE  \\\n",
       "0                            2.0                       2.0   \n",
       "26                           1.0                      10.0   \n",
       "40                           0.0                       0.0   \n",
       "42                           0.0                       1.0   \n",
       "81                           1.0                       1.0   \n",
       "...                          ...                       ...   \n",
       "307446                       0.0                       0.0   \n",
       "307448                       0.0                       0.0   \n",
       "307475                       0.0                       0.0   \n",
       "307481                       0.0                       0.0   \n",
       "307489                       1.0                       1.0   \n",
       "\n",
       "        DEF_60_CNT_SOCIAL_CIRCLE  DAYS_LAST_PHONE_CHANGE  FLAG_DOCUMENT_3  \\\n",
       "0                            2.0                 -1134.0                1   \n",
       "26                           0.0                  -161.0                1   \n",
       "40                           0.0                 -1075.0                1   \n",
       "42                           0.0                 -1480.0                1   \n",
       "81                           1.0                     0.0                0   \n",
       "...                          ...                     ...              ...   \n",
       "307446                       0.0                  -243.0                1   \n",
       "307448                       0.0                  -324.0                0   \n",
       "307475                       0.0                 -1492.0                1   \n",
       "307481                       0.0                 -2941.0                1   \n",
       "307489                       0.0                  -307.0                1   \n",
       "\n",
       "        AMT_REQ_CREDIT_BUREAU_YEAR  \n",
       "0                              1.0  \n",
       "26                             2.0  \n",
       "40                             4.0  \n",
       "42                             2.0  \n",
       "81                             0.0  \n",
       "...                            ...  \n",
       "307446                         NaN  \n",
       "307448                         2.0  \n",
       "307475                         6.0  \n",
       "307481                         3.0  \n",
       "307489                         2.0  \n",
       "\n",
       "[24824 rows x 27 columns]"
      ]
     },
     "execution_count": 24,
     "metadata": {},
     "output_type": "execute_result"
    }
   ],
   "source": [
    "test[test['TARGET']==1]"
   ]
  },
  {
   "cell_type": "code",
   "execution_count": 25,
   "id": "9729940d",
   "metadata": {},
   "outputs": [
    {
     "data": {
      "text/plain": [
       "26"
      ]
     },
     "execution_count": 25,
     "metadata": {},
     "output_type": "execute_result"
    }
   ],
   "source": [
    "last_cols_noTarget=['CODE_GENDER', 'CNT_CHILDREN', 'NAME_TYPE_SUITE',\n",
    "       'NAME_INCOME_TYPE', 'NAME_EDUCATION_TYPE', 'NAME_HOUSING_TYPE',\n",
    "       'DAYS_BIRTH', 'DAYS_REGISTRATION', 'DAYS_ID_PUBLISH', 'FLAG_EMP_PHONE',\n",
    "       'FLAG_WORK_PHONE', 'CNT_FAM_MEMBERS', 'REGION_RATING_CLIENT',\n",
    "       'REGION_RATING_CLIENT_W_CITY', 'REG_REGION_NOT_LIVE_REGION',\n",
    "       'REG_REGION_NOT_WORK_REGION', 'REG_CITY_NOT_LIVE_CITY',\n",
    "       'REG_CITY_NOT_WORK_CITY', 'LIVE_CITY_NOT_WORK_CITY',\n",
    "       'OBS_30_CNT_SOCIAL_CIRCLE', 'DEF_30_CNT_SOCIAL_CIRCLE',\n",
    "       'OBS_60_CNT_SOCIAL_CIRCLE', 'DEF_60_CNT_SOCIAL_CIRCLE',\n",
    "       'DAYS_LAST_PHONE_CHANGE', 'FLAG_DOCUMENT_3',\n",
    "       'AMT_REQ_CREDIT_BUREAU_YEAR']\n",
    "len(last_cols_noTarget)\n",
    "# 'TARGET',"
   ]
  },
  {
   "cell_type": "markdown",
   "id": "197c5e53",
   "metadata": {},
   "source": [
    "# Sampling"
   ]
  },
  {
   "cell_type": "code",
   "execution_count": 35,
   "id": "369f5a8b",
   "metadata": {
    "scrolled": false
   },
   "outputs": [],
   "source": [
    "from imblearn.over_sampling import RandomOverSampler"
   ]
  },
  {
   "cell_type": "code",
   "execution_count": 36,
   "id": "6b7fa05f",
   "metadata": {},
   "outputs": [],
   "source": [
    "X = df.drop(\"TARGET\", axis=1)\n",
    "y = df[\"TARGET\"]"
   ]
  },
  {
   "cell_type": "code",
   "execution_count": 37,
   "id": "f7c9a711",
   "metadata": {},
   "outputs": [
    {
     "data": {
      "text/plain": [
       "26"
      ]
     },
     "execution_count": 37,
     "metadata": {},
     "output_type": "execute_result"
    }
   ],
   "source": [
    "len(X.columns)"
   ]
  },
  {
   "cell_type": "code",
   "execution_count": 38,
   "id": "be3b82ae",
   "metadata": {},
   "outputs": [
    {
     "name": "stdout",
     "output_type": "stream",
     "text": [
      "% des class:\n",
      " TARGET\n",
      "1    225248\n",
      "0    225248\n",
      "Name: count, dtype: int64\n"
     ]
    }
   ],
   "source": [
    "# Random oversampling\n",
    "ros = RandomOverSampler(random_state=0)\n",
    "X_ros, y_ros = ros.fit_resample(X, y)\n",
    "print('% des class:\\n',(y_ros).value_counts().sort_values(ascending=False))"
   ]
  },
  {
   "cell_type": "code",
   "execution_count": 39,
   "id": "7a35cc27",
   "metadata": {},
   "outputs": [
    {
     "data": {
      "text/plain": [
       "(((450496, 26), (450496,)),)"
      ]
     },
     "execution_count": 39,
     "metadata": {},
     "output_type": "execute_result"
    }
   ],
   "source": [
    "(\n",
    "(X_ros.shape, y_ros.shape),\n",
    ")"
   ]
  },
  {
   "cell_type": "code",
   "execution_count": 40,
   "id": "622a4f01",
   "metadata": {},
   "outputs": [
    {
     "name": "stdout",
     "output_type": "stream",
     "text": [
      "% des class:\n",
      " TARGET\n",
      "1    225248\n",
      "0    225248\n",
      "Name: count, dtype: int64\n"
     ]
    }
   ],
   "source": [
    "print('% des class:\\n',(y_ros).value_counts().sort_values(ascending=False))"
   ]
  },
  {
   "cell_type": "markdown",
   "id": "e758c04a",
   "metadata": {},
   "source": [
    "# Evaluation Function"
   ]
  },
  {
   "cell_type": "code",
   "execution_count": 41,
   "id": "4dfbadae",
   "metadata": {},
   "outputs": [],
   "source": [
    "import numpy as np\n",
    "import matplotlib.pyplot as plt\n",
    "from scipy.stats import ks_2samp\n",
    "from sklearn.model_selection import train_test_split,learning_curve\n",
    "from sklearn.metrics import (f1_score, confusion_matrix, classification_report, matthews_corrcoef, roc_curve, \n",
    "                             roc_auc_score,accuracy_score, recall_score, precision_score, precision_recall_curve,\n",
    "                             cohen_kappa_score, log_loss )"
   ]
  },
  {
   "cell_type": "markdown",
   "id": "afe83c14",
   "metadata": {},
   "source": [
    "# LR, DT, RF, XGB, GBC, ABC"
   ]
  },
  {
   "cell_type": "code",
   "execution_count": 42,
   "id": "b7dbd868",
   "metadata": {},
   "outputs": [],
   "source": [
    "from sklearn.ensemble import RandomForestClassifier\n",
    "# from sklearn.ensemble import AdaBoostClassifier, GradientBoostingClassifier"
   ]
  },
  {
   "cell_type": "code",
   "execution_count": 43,
   "id": "c0358b71",
   "metadata": {},
   "outputs": [],
   "source": [
    "Model  = RandomForestClassifier(random_state=0)"
   ]
  },
  {
   "cell_type": "code",
   "execution_count": 44,
   "id": "9159d5a1",
   "metadata": {},
   "outputs": [
    {
     "name": "stdout",
     "output_type": "stream",
     "text": [
      "\n",
      "=================================== RF - Manual ===================================\n",
      "X_train shape:  (360396, 26) y_train shape: = (360396,)\n",
      "% des class dans Y train:\n",
      "TARGET\n",
      "1    180313\n",
      "0    180083\n",
      "Name: count, dtype: int64\n",
      "% des class dans Y test:\n",
      "TARGET\n",
      "0    45165\n",
      "1    44935\n",
      "Name: count, dtype: int64\n",
      "Train set and test set have different samples.\n",
      "matthews_corrcoef-----------------------99.77162576763712\n",
      "f1_score--------------------------------99.88552121191914\n",
      " --------------------------- Model saved ---------------------------\n",
      "\n",
      "=================================== RF - Done ===================================\n"
     ]
    }
   ],
   "source": [
    "print('\\n=================================== RF - Manual ===================================')\n",
    "X_train, X_test, y_train, y_test = train_test_split(X_ros, y_ros, test_size=0.2, random_state=0)\n",
    "# Convert both sets to sets to get unique values\n",
    "train_set_unique = np.array(X_train)\n",
    "test_set_unique = np.array(X_test)\n",
    "\n",
    "# Check if both sets have the same samples\n",
    "if np.array_equal(train_set_unique, test_set_unique):\n",
    "    print(\"Train set and test set have the same samples.\")\n",
    "else:\n",
    "    print('X_train shape: ',X_train.shape, 'y_train shape: =', y_train.shape)\n",
    "    print('% des class dans Y train:')\n",
    "    print((y_train).value_counts().sort_values(ascending=False))\n",
    "    print('% des class dans Y test:')\n",
    "    print((y_test).value_counts().sort_values(ascending=False))\n",
    "    class_counts = np.bincount(y_train)\n",
    "    total_samples = len(y_train)\n",
    "    class_weights = {i: total_samples / (len(class_counts) * count) for i, count in enumerate(class_counts)}\n",
    "    sample_weights = [class_weights[y] for y in y_train]\n",
    "    Model.fit(X_train, y_train, sample_weight=sample_weights)\n",
    "    pickle.dump(Model, open(f'RFC.pkl', 'wb'))\n",
    "    ypred = Model.predict(X_test)\n",
    "    print(\"Train set and test set have different samples.\")\n",
    "    print(f\"{'matthews_corrcoef':-<40}{matthews_corrcoef(y_test, ypred)*100}\")\n",
    "    print(f\"{'f1_score':-<40}{f1_score(y_test, ypred)*100}\")\n",
    "    \n",
    "    print(' --------------------------- Model saved ---------------------------')\n",
    "print('\\n=================================== RF - Done ===================================')"
   ]
  },
  {
   "cell_type": "code",
   "execution_count": 45,
   "id": "68a8605d",
   "metadata": {},
   "outputs": [],
   "source": [
    "import joblib"
   ]
  },
  {
   "cell_type": "code",
   "execution_count": 46,
   "id": "29f94e18",
   "metadata": {},
   "outputs": [
    {
     "data": {
      "text/plain": [
       "['Saved_Model_RF.joblib']"
      ]
     },
     "execution_count": 46,
     "metadata": {},
     "output_type": "execute_result"
    }
   ],
   "source": [
    "joblib.dump(Model, 'Saved_Model_RF.joblib')"
   ]
  },
  {
   "cell_type": "code",
   "execution_count": 47,
   "id": "5601c7ad",
   "metadata": {},
   "outputs": [
    {
     "data": {
      "text/plain": [
       "['RandomForestClassifier.pbz2']"
      ]
     },
     "execution_count": 47,
     "metadata": {},
     "output_type": "execute_result"
    }
   ],
   "source": [
    "# Specify the file path where you want to save the compressed model\n",
    "compressed_model_path = 'RandomForestClassifier.pbz2'\n",
    "\n",
    "# Save the model in a compressed format using joblib\n",
    "joblib.dump(Model, compressed_model_path, compress=('bz2', 9))"
   ]
  },
  {
   "cell_type": "code",
   "execution_count": 49,
   "id": "9ab80b00",
   "metadata": {},
   "outputs": [
    {
     "data": {
      "text/plain": [
       "['RandomForestClassifier_10.pbz2']"
      ]
     },
     "execution_count": 49,
     "metadata": {},
     "output_type": "execute_result"
    }
   ],
   "source": [
    "# Specify the file path where you want to save the compressed model\n",
    "compressed_model_path = 'RandomForestClassifier_10.pbz2'\n",
    "\n",
    "# Save the model in a compressed format using joblib\n",
    "joblib.dump(Model, compressed_model_path, compress=('bz2', 5))"
   ]
  },
  {
   "cell_type": "markdown",
   "id": "6a19c27e",
   "metadata": {},
   "source": [
    "# 2 - Déploiement d'un modèle sklearn avec MLflow\n",
    "### Installation avec Pip\n",
    "\n",
    "Exécutez la commande suivante dans le terminal associé à votre environnement Python `pip install mlflow`"
   ]
  },
  {
   "cell_type": "code",
   "execution_count": null,
   "id": "e33c4e22",
   "metadata": {},
   "outputs": [],
   "source": [
    "# pip install mlflow"
   ]
  },
  {
   "cell_type": "code",
   "execution_count": null,
   "id": "1a194e9f",
   "metadata": {},
   "outputs": [],
   "source": [
    "from mlflow.models.signature import infer_signature\n",
    "import mlflow.sklearn"
   ]
  },
  {
   "cell_type": "code",
   "execution_count": null,
   "id": "3e9be4c7",
   "metadata": {},
   "outputs": [],
   "source": [
    "signature = infer_signature(X_train, y_train)"
   ]
  },
  {
   "cell_type": "code",
   "execution_count": null,
   "id": "afd7ae16",
   "metadata": {},
   "outputs": [],
   "source": [
    "mlflow.sklearn.save_model(Model, 'mlflow_model', signature=signature)"
   ]
  },
  {
   "cell_type": "markdown",
   "id": "3f397554",
   "metadata": {},
   "source": [
    "mlflow models serve -m mlflow_model/"
   ]
  },
  {
   "cell_type": "code",
   "execution_count": null,
   "id": "dbd63a96",
   "metadata": {},
   "outputs": [],
   "source": []
  },
  {
   "cell_type": "markdown",
   "id": "1b528d25",
   "metadata": {},
   "source": [
    "    # ypred = Model.predict(X_test)\n",
    "    # print(\"Train set and test set have different samples.\")\n",
    "    # print(f\"{'matthews_corrcoef':-<40}{matthews_corrcoef(y_test, ypred)*100}\")\n",
    "    # print(f\"{'f1_score':-<40}{f1_score(y_test, ypred)*100}\")\n",
    "    # print(f\"{'accuracy_score':-<40}{accuracy_score(y_test, ypred)*100}\")\n",
    "    # print(f\"{'confusion_matrix'}\\n{confusion_matrix(y_test, ypred)}\")\n",
    "    # print(f\"{'classification_report'}\\n{classification_report(y_test, ypred)}\")\n",
    "    # tn, fp, fn, tp = confusion_matrix(y_test, ypred).ravel()\n",
    "    # print(f\"{'recall_score':-<40}{recall_score(y_test, ypred)}\")\n",
    "    # print(f\"{'precision_score':-<40}{precision_score(y_test, ypred)}\")\n",
    "    # print(f\"{'roc_auc_score':-<40}{roc_auc_score(y_test, ypred)}\")\n",
    "    # print(f\"{'false_positive_rate':-<40}{fp / (fp + tn)}\")\n",
    "    # print(f\"{'negative_predictive_value':-<40}{tn / (tn + fn)}\")\n",
    "    # print(f\"{'cohen_kappa_score':-<40}{cohen_kappa_score(y_test, ypred)}\")\n",
    "    # print(f\"{'gini_coefficient':-<40}{2 * roc_auc_score(y_test, ypred) - 1}\")\n",
    "    # print(f\"{'squared_error':-<40}{((ypred - y_test) ** 2).mean()}\")\n",
    "    # print(f\"{'log_loss_value':-<40}{log_loss(y_test, ypred)}\")\n",
    "    # print(f\"{'precision_recall_curve'}\\n{precision_recall_curve(y_test, ypred)}\")\n",
    "    # ks_statistic, ks_p_value = ks_2samp(ypred[y_test == 0], ypred[y_test == 1])\n",
    "    # print(f\"{'ks_statistic, ks_p_value':-<40}{ks_statistic, ks_p_value}\")\n",
    "    # # cross validation:\n",
    "    # N, train_score, val_score = learning_curve(Model,X_train,y_train,cv=5,scoring='f1',\n",
    "    #                                            train_sizes=np.linspace(0.1, 1, 10))\n",
    "    # fpr, tpr, thresholds = roc_curve(y_test, ypred)\n",
    "\n",
    "    # # Affichage\n",
    "    # fig, axes = plt.subplots(1, 2, figsize=(8, 4))  \n",
    "    # axes[0].plot(N, train_score.mean(axis=1), label='train score')\n",
    "    # axes[0].plot(N, val_score.mean(axis=1), label='validation score')\n",
    "    # axes[0].legend()\n",
    "    # axes[1].set_title('Learning Curve')  \n",
    "    # axes[1].plot([0, 1], [0, 1], 'k--', label = 'Base')\n",
    "    # axes[1].plot(fpr, tpr, color = 'blue', label = 'ROC')\n",
    "    # axes[1].set_xlabel('False Positive Rate')\n",
    "    # axes[1].set_ylabel('True Positive Rate')\n",
    "    # axes[1].set_title('ROC Curve')\n",
    "    # axes[1].legend(loc='best')\n",
    "\n",
    "    # plt.tight_layout()  \n",
    "    # plt.show() "
   ]
  },
  {
   "cell_type": "markdown",
   "id": "22da962b",
   "metadata": {},
   "source": []
  }
 ],
 "metadata": {
  "kernelspec": {
   "display_name": "Python 3",
   "language": "python",
   "name": "python3"
  },
  "language_info": {
   "codemirror_mode": {
    "name": "ipython",
    "version": 3
   },
   "file_extension": ".py",
   "mimetype": "text/x-python",
   "name": "python",
   "nbconvert_exporter": "python",
   "pygments_lexer": "ipython3",
   "version": "3.8.1"
  }
 },
 "nbformat": 4,
 "nbformat_minor": 5
}
